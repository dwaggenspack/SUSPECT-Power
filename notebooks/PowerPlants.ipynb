{
 "cells": [
  {
   "cell_type": "markdown",
   "metadata": {},
   "source": [
    "# Processing plants data from the Energy Information Agency\n",
    "\n",
    "## As always, import the required modules\n"
   ]
  },
  {
   "cell_type": "code",
   "execution_count": 1,
   "metadata": {},
   "outputs": [],
   "source": [
    "import geopandas as gpd\n",
    "import pandas as pd"
   ]
  },
  {
   "cell_type": "markdown",
   "metadata": {},
   "source": [
    "Here we use geopandas to read in the downloaded power plants shapefile."
   ]
  },
  {
   "cell_type": "code",
   "execution_count": 2,
   "metadata": {},
   "outputs": [],
   "source": [
    "pplants = gpd.read_file(r'.\\data\\PowerPlants_US_EIA\\PowerPlants_US_202001.shp')\n"
   ]
  },
  {
   "cell_type": "markdown",
   "metadata": {},
   "source": [
    "Checking out just a bit of the structure, we can see that the source_des column has what we need. However...  It appears to have the different fuel sources in a comma separated string."
   ]
  },
  {
   "cell_type": "code",
   "execution_count": 3,
   "metadata": {},
   "outputs": [
    {
     "data": {
      "text/html": [
       "<div>\n",
       "<style scoped>\n",
       "    .dataframe tbody tr th:only-of-type {\n",
       "        vertical-align: middle;\n",
       "    }\n",
       "\n",
       "    .dataframe tbody tr th {\n",
       "        vertical-align: top;\n",
       "    }\n",
       "\n",
       "    .dataframe thead th {\n",
       "        text-align: right;\n",
       "    }\n",
       "</style>\n",
       "<table border=\"1\" class=\"dataframe\">\n",
       "  <thead>\n",
       "    <tr style=\"text-align: right;\">\n",
       "      <th></th>\n",
       "      <th>Plant_Code</th>\n",
       "      <th>Plant_Name</th>\n",
       "      <th>Utility_Na</th>\n",
       "      <th>Utility_ID</th>\n",
       "      <th>sector_nam</th>\n",
       "      <th>City</th>\n",
       "      <th>County</th>\n",
       "      <th>StateName</th>\n",
       "      <th>Zip</th>\n",
       "      <th>Street_Add</th>\n",
       "      <th>...</th>\n",
       "      <th>Geo_MW</th>\n",
       "      <th>Bat_MW</th>\n",
       "      <th>Other_MW</th>\n",
       "      <th>source_des</th>\n",
       "      <th>tech_desc</th>\n",
       "      <th>Source</th>\n",
       "      <th>Period</th>\n",
       "      <th>Latitude</th>\n",
       "      <th>Longitude</th>\n",
       "      <th>geometry</th>\n",
       "    </tr>\n",
       "  </thead>\n",
       "  <tbody>\n",
       "    <tr>\n",
       "      <th>0</th>\n",
       "      <td>2</td>\n",
       "      <td>Bankhead Dam</td>\n",
       "      <td>Alabama Power Co</td>\n",
       "      <td>195</td>\n",
       "      <td>Electric Utility</td>\n",
       "      <td>Northport</td>\n",
       "      <td>Tuscaloosa</td>\n",
       "      <td>Alabama</td>\n",
       "      <td>35476</td>\n",
       "      <td>19001 Lock 17 Road</td>\n",
       "      <td>...</td>\n",
       "      <td>None</td>\n",
       "      <td>None</td>\n",
       "      <td>None</td>\n",
       "      <td>Hydroelectric = 53 MW</td>\n",
       "      <td>Conventional Hydroelectric</td>\n",
       "      <td>EIA-860, EIA-860M and EIA-923</td>\n",
       "      <td>202001</td>\n",
       "      <td>33.458665</td>\n",
       "      <td>-87.356823</td>\n",
       "      <td>POINT (-87.35682 33.45867)</td>\n",
       "    </tr>\n",
       "    <tr>\n",
       "      <th>1</th>\n",
       "      <td>3</td>\n",
       "      <td>Barry</td>\n",
       "      <td>Alabama Power Co</td>\n",
       "      <td>195</td>\n",
       "      <td>Electric Utility</td>\n",
       "      <td>Bucks</td>\n",
       "      <td>Mobile</td>\n",
       "      <td>Alabama</td>\n",
       "      <td>36512</td>\n",
       "      <td>North Highway 43</td>\n",
       "      <td>...</td>\n",
       "      <td>None</td>\n",
       "      <td>None</td>\n",
       "      <td>None</td>\n",
       "      <td>Coal = 1118.5 MW, Natural Gas = 1268.4 MW</td>\n",
       "      <td>Conventional Steam Coal; Natural Gas Fired Com...</td>\n",
       "      <td>EIA-860, EIA-860M and EIA-923</td>\n",
       "      <td>202001</td>\n",
       "      <td>31.006900</td>\n",
       "      <td>-88.010300</td>\n",
       "      <td>POINT (-88.01030 31.00690)</td>\n",
       "    </tr>\n",
       "    <tr>\n",
       "      <th>2</th>\n",
       "      <td>4</td>\n",
       "      <td>Walter Bouldin Dam</td>\n",
       "      <td>Alabama Power Co</td>\n",
       "      <td>195</td>\n",
       "      <td>Electric Utility</td>\n",
       "      <td>Wetumpka</td>\n",
       "      <td>Elmore</td>\n",
       "      <td>Alabama</td>\n",
       "      <td>36092</td>\n",
       "      <td>750 Bouldin Dam Road</td>\n",
       "      <td>...</td>\n",
       "      <td>None</td>\n",
       "      <td>None</td>\n",
       "      <td>None</td>\n",
       "      <td>Hydroelectric = 224.1 MW</td>\n",
       "      <td>Conventional Hydroelectric</td>\n",
       "      <td>EIA-860, EIA-860M and EIA-923</td>\n",
       "      <td>202001</td>\n",
       "      <td>32.583889</td>\n",
       "      <td>-86.283056</td>\n",
       "      <td>POINT (-86.28306 32.58389)</td>\n",
       "    </tr>\n",
       "  </tbody>\n",
       "</table>\n",
       "<p>3 rows × 32 columns</p>\n",
       "</div>"
      ],
      "text/plain": [
       "   Plant_Code          Plant_Name        Utility_Na  Utility_ID  \\\n",
       "0           2        Bankhead Dam  Alabama Power Co         195   \n",
       "1           3               Barry  Alabama Power Co         195   \n",
       "2           4  Walter Bouldin Dam  Alabama Power Co         195   \n",
       "\n",
       "         sector_nam       City      County StateName    Zip  \\\n",
       "0  Electric Utility  Northport  Tuscaloosa   Alabama  35476   \n",
       "1  Electric Utility      Bucks      Mobile   Alabama  36512   \n",
       "2  Electric Utility   Wetumpka      Elmore   Alabama  36092   \n",
       "\n",
       "             Street_Add  ... Geo_MW  Bat_MW  Other_MW  \\\n",
       "0    19001 Lock 17 Road  ...   None    None      None   \n",
       "1      North Highway 43  ...   None    None      None   \n",
       "2  750 Bouldin Dam Road  ...   None    None      None   \n",
       "\n",
       "                                  source_des  \\\n",
       "0                      Hydroelectric = 53 MW   \n",
       "1  Coal = 1118.5 MW, Natural Gas = 1268.4 MW   \n",
       "2                   Hydroelectric = 224.1 MW   \n",
       "\n",
       "                                           tech_desc  \\\n",
       "0                         Conventional Hydroelectric   \n",
       "1  Conventional Steam Coal; Natural Gas Fired Com...   \n",
       "2                         Conventional Hydroelectric   \n",
       "\n",
       "                          Source  Period   Latitude  Longitude  \\\n",
       "0  EIA-860, EIA-860M and EIA-923  202001  33.458665 -87.356823   \n",
       "1  EIA-860, EIA-860M and EIA-923  202001  31.006900 -88.010300   \n",
       "2  EIA-860, EIA-860M and EIA-923  202001  32.583889 -86.283056   \n",
       "\n",
       "                     geometry  \n",
       "0  POINT (-87.35682 33.45867)  \n",
       "1  POINT (-88.01030 31.00690)  \n",
       "2  POINT (-86.28306 32.58389)  \n",
       "\n",
       "[3 rows x 32 columns]"
      ]
     },
     "execution_count": 3,
     "metadata": {},
     "output_type": "execute_result"
    }
   ],
   "source": [
    "pplants.head(3)"
   ]
  },
  {
   "cell_type": "markdown",
   "metadata": {},
   "source": [
    "So we don't want want the ' MW' nor and spaces after the commas as this will mess up the formatting of the strings.\n",
    "Let's nip that in the bud early on."
   ]
  },
  {
   "cell_type": "code",
   "execution_count": 11,
   "metadata": {},
   "outputs": [],
   "source": [
    "pplants[\"source_des_noMW\"] = pplants['source_des'].replace({' MW': ''}, regex=True)\n",
    "pplants[\"source_des_noMW\"] = pplants['source_des_noMW'].replace({', ': ','}, regex=True)"
   ]
  },
  {
   "cell_type": "markdown",
   "metadata": {},
   "source": [
    "This was an early attempt. It left us with a list and not the key:value pairs we are really looking for"
   ]
  },
  {
   "cell_type": "code",
   "execution_count": 13,
   "metadata": {},
   "outputs": [],
   "source": [
    "pplants['fuel'] = pplants[\"source_des_noMW\"].str.split(',',expand=False) "
   ]
  },
  {
   "cell_type": "markdown",
   "metadata": {},
   "source": [
    "Looking now, we can see that our string is now a list of strings."
   ]
  },
  {
   "cell_type": "code",
   "execution_count": 14,
   "metadata": {},
   "outputs": [
    {
     "data": {
      "text/html": [
       "<div>\n",
       "<style scoped>\n",
       "    .dataframe tbody tr th:only-of-type {\n",
       "        vertical-align: middle;\n",
       "    }\n",
       "\n",
       "    .dataframe tbody tr th {\n",
       "        vertical-align: top;\n",
       "    }\n",
       "\n",
       "    .dataframe thead th {\n",
       "        text-align: right;\n",
       "    }\n",
       "</style>\n",
       "<table border=\"1\" class=\"dataframe\">\n",
       "  <thead>\n",
       "    <tr style=\"text-align: right;\">\n",
       "      <th></th>\n",
       "      <th>source_des_noMW</th>\n",
       "      <th>fuel</th>\n",
       "    </tr>\n",
       "  </thead>\n",
       "  <tbody>\n",
       "    <tr>\n",
       "      <th>0</th>\n",
       "      <td>Hydroelectric = 53</td>\n",
       "      <td>[Hydroelectric = 53]</td>\n",
       "    </tr>\n",
       "    <tr>\n",
       "      <th>1</th>\n",
       "      <td>Coal = 1118.5,Natural Gas = 1268.4</td>\n",
       "      <td>[Coal = 1118.5, Natural Gas = 1268.4]</td>\n",
       "    </tr>\n",
       "    <tr>\n",
       "      <th>2</th>\n",
       "      <td>Hydroelectric = 224.1</td>\n",
       "      <td>[Hydroelectric = 224.1]</td>\n",
       "    </tr>\n",
       "  </tbody>\n",
       "</table>\n",
       "</div>"
      ],
      "text/plain": [
       "                      source_des_noMW                                   fuel\n",
       "0                  Hydroelectric = 53                   [Hydroelectric = 53]\n",
       "1  Coal = 1118.5,Natural Gas = 1268.4  [Coal = 1118.5, Natural Gas = 1268.4]\n",
       "2               Hydroelectric = 224.1                [Hydroelectric = 224.1]"
      ]
     },
     "execution_count": 14,
     "metadata": {},
     "output_type": "execute_result"
    }
   ],
   "source": [
    "pplants[['source_des_noMW','fuel']].head(3)"
   ]
  },
  {
   "cell_type": "markdown",
   "metadata": {},
   "source": [
    "We want the column with our fuel to be in a format with some key:value pairs where our fuel type is the key and the MW is our value.\n",
    "So lets use the apply lamda function to apply a for loop to each string, first splitting the string, then looping over the results there to create a dictionary.\n"
   ]
  },
  {
   "cell_type": "code",
   "execution_count": 19,
   "metadata": {},
   "outputs": [],
   "source": [
    "pplants['fuel_source'] = pplants['source_des_noMW'].apply(lambda x: dict(kv.split(' = ') for kv in x.split(',')))\n"
   ]
  },
  {
   "cell_type": "code",
   "execution_count": 20,
   "metadata": {},
   "outputs": [
    {
     "data": {
      "text/html": [
       "<div>\n",
       "<style scoped>\n",
       "    .dataframe tbody tr th:only-of-type {\n",
       "        vertical-align: middle;\n",
       "    }\n",
       "\n",
       "    .dataframe tbody tr th {\n",
       "        vertical-align: top;\n",
       "    }\n",
       "\n",
       "    .dataframe thead th {\n",
       "        text-align: right;\n",
       "    }\n",
       "</style>\n",
       "<table border=\"1\" class=\"dataframe\">\n",
       "  <thead>\n",
       "    <tr style=\"text-align: right;\">\n",
       "      <th></th>\n",
       "      <th>source_des_noMW</th>\n",
       "      <th>fuel_source</th>\n",
       "    </tr>\n",
       "  </thead>\n",
       "  <tbody>\n",
       "    <tr>\n",
       "      <th>0</th>\n",
       "      <td>Hydroelectric = 53</td>\n",
       "      <td>{'Hydroelectric': '53'}</td>\n",
       "    </tr>\n",
       "    <tr>\n",
       "      <th>1</th>\n",
       "      <td>Coal = 1118.5,Natural Gas = 1268.4</td>\n",
       "      <td>{'Coal': '1118.5', 'Natural Gas': '1268.4'}</td>\n",
       "    </tr>\n",
       "  </tbody>\n",
       "</table>\n",
       "</div>"
      ],
      "text/plain": [
       "                      source_des_noMW  \\\n",
       "0                  Hydroelectric = 53   \n",
       "1  Coal = 1118.5,Natural Gas = 1268.4   \n",
       "\n",
       "                                   fuel_source  \n",
       "0                      {'Hydroelectric': '53'}  \n",
       "1  {'Coal': '1118.5', 'Natural Gas': '1268.4'}  "
      ]
     },
     "execution_count": 20,
     "metadata": {},
     "output_type": "execute_result"
    }
   ],
   "source": [
    "pplants[['source_des_noMW','fuel_source']].head(3)"
   ]
  },
  {
   "cell_type": "markdown",
   "metadata": {},
   "source": [
    "Now we just want to rename our columns"
   ]
  },
  {
   "cell_type": "code",
   "execution_count": 21,
   "metadata": {},
   "outputs": [],
   "source": [
    "pplants.rename({'Plant_Code': 'code', 'Plant_Name': 'plant_name','Total_MW': 'capacity_mw'}, axis=1, inplace=True)"
   ]
  },
  {
   "cell_type": "code",
   "execution_count": 22,
   "metadata": {
    "scrolled": false
   },
   "outputs": [
    {
     "data": {
      "text/html": [
       "<div>\n",
       "<style scoped>\n",
       "    .dataframe tbody tr th:only-of-type {\n",
       "        vertical-align: middle;\n",
       "    }\n",
       "\n",
       "    .dataframe tbody tr th {\n",
       "        vertical-align: top;\n",
       "    }\n",
       "\n",
       "    .dataframe thead th {\n",
       "        text-align: right;\n",
       "    }\n",
       "</style>\n",
       "<table border=\"1\" class=\"dataframe\">\n",
       "  <thead>\n",
       "    <tr style=\"text-align: right;\">\n",
       "      <th></th>\n",
       "      <th>code</th>\n",
       "      <th>plant_name</th>\n",
       "      <th>Utility_Na</th>\n",
       "      <th>Utility_ID</th>\n",
       "      <th>sector_nam</th>\n",
       "      <th>City</th>\n",
       "      <th>County</th>\n",
       "      <th>StateName</th>\n",
       "      <th>Zip</th>\n",
       "      <th>Street_Add</th>\n",
       "      <th>...</th>\n",
       "      <th>source_des</th>\n",
       "      <th>tech_desc</th>\n",
       "      <th>Source</th>\n",
       "      <th>Period</th>\n",
       "      <th>Latitude</th>\n",
       "      <th>Longitude</th>\n",
       "      <th>geometry</th>\n",
       "      <th>source_des_noMW</th>\n",
       "      <th>fuel</th>\n",
       "      <th>fuel_source</th>\n",
       "    </tr>\n",
       "  </thead>\n",
       "  <tbody>\n",
       "    <tr>\n",
       "      <th>0</th>\n",
       "      <td>2</td>\n",
       "      <td>Bankhead Dam</td>\n",
       "      <td>Alabama Power Co</td>\n",
       "      <td>195</td>\n",
       "      <td>Electric Utility</td>\n",
       "      <td>Northport</td>\n",
       "      <td>Tuscaloosa</td>\n",
       "      <td>Alabama</td>\n",
       "      <td>35476</td>\n",
       "      <td>19001 Lock 17 Road</td>\n",
       "      <td>...</td>\n",
       "      <td>Hydroelectric = 53 MW</td>\n",
       "      <td>Conventional Hydroelectric</td>\n",
       "      <td>EIA-860, EIA-860M and EIA-923</td>\n",
       "      <td>202001</td>\n",
       "      <td>33.458665</td>\n",
       "      <td>-87.356823</td>\n",
       "      <td>POINT (-87.35682 33.45867)</td>\n",
       "      <td>Hydroelectric = 53</td>\n",
       "      <td>[Hydroelectric = 53]</td>\n",
       "      <td>{'Hydroelectric': '53'}</td>\n",
       "    </tr>\n",
       "    <tr>\n",
       "      <th>1</th>\n",
       "      <td>3</td>\n",
       "      <td>Barry</td>\n",
       "      <td>Alabama Power Co</td>\n",
       "      <td>195</td>\n",
       "      <td>Electric Utility</td>\n",
       "      <td>Bucks</td>\n",
       "      <td>Mobile</td>\n",
       "      <td>Alabama</td>\n",
       "      <td>36512</td>\n",
       "      <td>North Highway 43</td>\n",
       "      <td>...</td>\n",
       "      <td>Coal = 1118.5 MW, Natural Gas = 1268.4 MW</td>\n",
       "      <td>Conventional Steam Coal; Natural Gas Fired Com...</td>\n",
       "      <td>EIA-860, EIA-860M and EIA-923</td>\n",
       "      <td>202001</td>\n",
       "      <td>31.006900</td>\n",
       "      <td>-88.010300</td>\n",
       "      <td>POINT (-88.01030 31.00690)</td>\n",
       "      <td>Coal = 1118.5,Natural Gas = 1268.4</td>\n",
       "      <td>[Coal = 1118.5, Natural Gas = 1268.4]</td>\n",
       "      <td>{'Coal': '1118.5', 'Natural Gas': '1268.4'}</td>\n",
       "    </tr>\n",
       "  </tbody>\n",
       "</table>\n",
       "<p>2 rows × 35 columns</p>\n",
       "</div>"
      ],
      "text/plain": [
       "   code    plant_name        Utility_Na  Utility_ID        sector_nam  \\\n",
       "0     2  Bankhead Dam  Alabama Power Co         195  Electric Utility   \n",
       "1     3         Barry  Alabama Power Co         195  Electric Utility   \n",
       "\n",
       "        City      County StateName    Zip          Street_Add  ...  \\\n",
       "0  Northport  Tuscaloosa   Alabama  35476  19001 Lock 17 Road  ...   \n",
       "1      Bucks      Mobile   Alabama  36512    North Highway 43  ...   \n",
       "\n",
       "                                  source_des  \\\n",
       "0                      Hydroelectric = 53 MW   \n",
       "1  Coal = 1118.5 MW, Natural Gas = 1268.4 MW   \n",
       "\n",
       "                                           tech_desc  \\\n",
       "0                         Conventional Hydroelectric   \n",
       "1  Conventional Steam Coal; Natural Gas Fired Com...   \n",
       "\n",
       "                          Source  Period   Latitude  Longitude  \\\n",
       "0  EIA-860, EIA-860M and EIA-923  202001  33.458665 -87.356823   \n",
       "1  EIA-860, EIA-860M and EIA-923  202001  31.006900 -88.010300   \n",
       "\n",
       "                     geometry                     source_des_noMW  \\\n",
       "0  POINT (-87.35682 33.45867)                  Hydroelectric = 53   \n",
       "1  POINT (-88.01030 31.00690)  Coal = 1118.5,Natural Gas = 1268.4   \n",
       "\n",
       "                                    fuel  \\\n",
       "0                   [Hydroelectric = 53]   \n",
       "1  [Coal = 1118.5, Natural Gas = 1268.4]   \n",
       "\n",
       "                                   fuel_source  \n",
       "0                      {'Hydroelectric': '53'}  \n",
       "1  {'Coal': '1118.5', 'Natural Gas': '1268.4'}  \n",
       "\n",
       "[2 rows x 35 columns]"
      ]
     },
     "execution_count": 22,
     "metadata": {},
     "output_type": "execute_result"
    }
   ],
   "source": [
    "pplants.head(2)"
   ]
  },
  {
   "cell_type": "markdown",
   "metadata": {},
   "source": [
    "We are also going to drop all the unnecessary columns."
   ]
  },
  {
   "cell_type": "code",
   "execution_count": 23,
   "metadata": {},
   "outputs": [],
   "source": [
    "pplants = pplants[['code','plant_name','capacity_mw','fuel_source','geometry']]"
   ]
  },
  {
   "cell_type": "code",
   "execution_count": 26,
   "metadata": {
    "scrolled": false
   },
   "outputs": [
    {
     "data": {
      "text/html": [
       "<div>\n",
       "<style scoped>\n",
       "    .dataframe tbody tr th:only-of-type {\n",
       "        vertical-align: middle;\n",
       "    }\n",
       "\n",
       "    .dataframe tbody tr th {\n",
       "        vertical-align: top;\n",
       "    }\n",
       "\n",
       "    .dataframe thead th {\n",
       "        text-align: right;\n",
       "    }\n",
       "</style>\n",
       "<table border=\"1\" class=\"dataframe\">\n",
       "  <thead>\n",
       "    <tr style=\"text-align: right;\">\n",
       "      <th></th>\n",
       "      <th>code</th>\n",
       "      <th>plant_name</th>\n",
       "      <th>capacity_mw</th>\n",
       "      <th>fuel_source</th>\n",
       "      <th>geometry</th>\n",
       "    </tr>\n",
       "  </thead>\n",
       "  <tbody>\n",
       "    <tr>\n",
       "      <th>0</th>\n",
       "      <td>2</td>\n",
       "      <td>Bankhead Dam</td>\n",
       "      <td>53.0</td>\n",
       "      <td>{'Hydroelectric': '53'}</td>\n",
       "      <td>POINT (-87.35682 33.45867)</td>\n",
       "    </tr>\n",
       "    <tr>\n",
       "      <th>1</th>\n",
       "      <td>3</td>\n",
       "      <td>Barry</td>\n",
       "      <td>2386.9</td>\n",
       "      <td>{'Coal': '1118.5', 'Natural Gas': '1268.4'}</td>\n",
       "      <td>POINT (-88.01030 31.00690)</td>\n",
       "    </tr>\n",
       "    <tr>\n",
       "      <th>2</th>\n",
       "      <td>4</td>\n",
       "      <td>Walter Bouldin Dam</td>\n",
       "      <td>224.1</td>\n",
       "      <td>{'Hydroelectric': '224.1'}</td>\n",
       "      <td>POINT (-86.28306 32.58389)</td>\n",
       "    </tr>\n",
       "    <tr>\n",
       "      <th>3</th>\n",
       "      <td>7</td>\n",
       "      <td>Gadsden</td>\n",
       "      <td>130.0</td>\n",
       "      <td>{'Natural Gas': '130'}</td>\n",
       "      <td>POINT (-85.97080 34.01280)</td>\n",
       "    </tr>\n",
       "    <tr>\n",
       "      <th>4</th>\n",
       "      <td>9</td>\n",
       "      <td>Copper</td>\n",
       "      <td>63.0</td>\n",
       "      <td>{'Natural Gas': '63'}</td>\n",
       "      <td>POINT (-106.37500 31.75690)</td>\n",
       "    </tr>\n",
       "    <tr>\n",
       "      <th>5</th>\n",
       "      <td>10</td>\n",
       "      <td>Greene County</td>\n",
       "      <td>1256.1</td>\n",
       "      <td>{'Natural Gas': '1256.1'}</td>\n",
       "      <td>POINT (-87.78110 32.60170)</td>\n",
       "    </tr>\n",
       "    <tr>\n",
       "      <th>6</th>\n",
       "      <td>11</td>\n",
       "      <td>H Neely Henry Dam</td>\n",
       "      <td>71.1</td>\n",
       "      <td>{'Hydroelectric': '71.1'}</td>\n",
       "      <td>POINT (-86.05240 33.78450)</td>\n",
       "    </tr>\n",
       "    <tr>\n",
       "      <th>7</th>\n",
       "      <td>12</td>\n",
       "      <td>Holt Dam</td>\n",
       "      <td>48.0</td>\n",
       "      <td>{'Hydroelectric': '48'}</td>\n",
       "      <td>POINT (-87.44950 33.25530)</td>\n",
       "    </tr>\n",
       "    <tr>\n",
       "      <th>8</th>\n",
       "      <td>13</td>\n",
       "      <td>Jordan Dam</td>\n",
       "      <td>129.2</td>\n",
       "      <td>{'Hydroelectric': '129.2'}</td>\n",
       "      <td>POINT (-86.25480 32.61890)</td>\n",
       "    </tr>\n",
       "    <tr>\n",
       "      <th>9</th>\n",
       "      <td>14</td>\n",
       "      <td>Logan Martin Dam</td>\n",
       "      <td>129.0</td>\n",
       "      <td>{'Hydroelectric': '129'}</td>\n",
       "      <td>POINT (-86.33755 33.42588)</td>\n",
       "    </tr>\n",
       "  </tbody>\n",
       "</table>\n",
       "</div>"
      ],
      "text/plain": [
       "   code          plant_name  capacity_mw  \\\n",
       "0     2        Bankhead Dam         53.0   \n",
       "1     3               Barry       2386.9   \n",
       "2     4  Walter Bouldin Dam        224.1   \n",
       "3     7             Gadsden        130.0   \n",
       "4     9              Copper         63.0   \n",
       "5    10       Greene County       1256.1   \n",
       "6    11   H Neely Henry Dam         71.1   \n",
       "7    12            Holt Dam         48.0   \n",
       "8    13          Jordan Dam        129.2   \n",
       "9    14    Logan Martin Dam        129.0   \n",
       "\n",
       "                                   fuel_source                     geometry  \n",
       "0                      {'Hydroelectric': '53'}   POINT (-87.35682 33.45867)  \n",
       "1  {'Coal': '1118.5', 'Natural Gas': '1268.4'}   POINT (-88.01030 31.00690)  \n",
       "2                   {'Hydroelectric': '224.1'}   POINT (-86.28306 32.58389)  \n",
       "3                       {'Natural Gas': '130'}   POINT (-85.97080 34.01280)  \n",
       "4                        {'Natural Gas': '63'}  POINT (-106.37500 31.75690)  \n",
       "5                    {'Natural Gas': '1256.1'}   POINT (-87.78110 32.60170)  \n",
       "6                    {'Hydroelectric': '71.1'}   POINT (-86.05240 33.78450)  \n",
       "7                      {'Hydroelectric': '48'}   POINT (-87.44950 33.25530)  \n",
       "8                   {'Hydroelectric': '129.2'}   POINT (-86.25480 32.61890)  \n",
       "9                     {'Hydroelectric': '129'}   POINT (-86.33755 33.42588)  "
      ]
     },
     "execution_count": 26,
     "metadata": {},
     "output_type": "execute_result"
    }
   ],
   "source": [
    "pplants.head(10)"
   ]
  },
  {
   "cell_type": "markdown",
   "metadata": {},
   "source": [
    "And finally, we are going to going to write out the file to our web app's \"data\" folder"
   ]
  },
  {
   "cell_type": "code",
   "execution_count": 25,
   "metadata": {},
   "outputs": [],
   "source": [
    "pplants.to_file(\"../data/plants.geojson\", driver='GeoJSON')"
   ]
  },
  {
   "cell_type": "code",
   "execution_count": null,
   "metadata": {},
   "outputs": [],
   "source": []
  },
  {
   "cell_type": "code",
   "execution_count": null,
   "metadata": {},
   "outputs": [],
   "source": []
  }
 ],
 "metadata": {
  "kernelspec": {
   "display_name": "Python 3",
   "language": "python",
   "name": "python3"
  },
  "language_info": {
   "codemirror_mode": {
    "name": "ipython",
    "version": 3
   },
   "file_extension": ".py",
   "mimetype": "text/x-python",
   "name": "python",
   "nbconvert_exporter": "python",
   "pygments_lexer": "ipython3",
   "version": "3.7.7"
  }
 },
 "nbformat": 4,
 "nbformat_minor": 2
}
